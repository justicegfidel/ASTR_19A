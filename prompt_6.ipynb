{
 "cells": [
  {
   "cell_type": "code",
   "execution_count": 1,
   "id": "60cbd177-3640-49c5-b923-24f3e3a3eef5",
   "metadata": {},
   "outputs": [],
   "source": [
    "import numpy as np"
   ]
  },
  {
   "cell_type": "code",
   "execution_count": 2,
   "id": "0e5fc478-320b-4f54-97f1-6c2bd14cf72c",
   "metadata": {},
   "outputs": [],
   "source": [
    "# sin function\n",
    "def my_sin(x):\n",
    "    return np.sin(x)"
   ]
  },
  {
   "cell_type": "code",
   "execution_count": 3,
   "id": "8cae0b92-0720-4133-9475-deb356db0f8c",
   "metadata": {},
   "outputs": [],
   "source": [
    "# cosine function\n",
    "def my_cos(x):\n",
    "    return np.cos(x)"
   ]
  },
  {
   "cell_type": "code",
   "execution_count": 4,
   "id": "810d759d-6501-490d-a751-7d8badb90c21",
   "metadata": {},
   "outputs": [],
   "source": [
    "# make x and calculate sin and cos\n",
    "x = np.linspace(0, 2, 1000)\n",
    "sin_values = my_sin(x)\n",
    "cos_values = my_cos(x)"
   ]
  },
  {
   "cell_type": "code",
   "execution_count": 5,
   "id": "7a72f936-df32-42f0-b69f-68621296e76a",
   "metadata": {},
   "outputs": [
    {
     "name": "stdout",
     "output_type": "stream",
     "text": [
      " index        x        sin(x)        cos(x)\n",
      "-------------------------------------------\n",
      "    0    0.00000   0.00000000   1.00000000\n",
      "    1    0.00200   0.00200200   0.99999800\n",
      "    2    0.00400   0.00400399   0.99999198\n",
      "    3    0.00601   0.00600597   0.99998196\n",
      "    4    0.00801   0.00800792   0.99996794\n",
      "    5    0.01001   0.01000984   0.99994990\n",
      "    6    0.01201   0.01201172   0.99992786\n",
      "    7    0.01401   0.01401356   0.99990181\n",
      "    8    0.01602   0.01601533   0.99987175\n",
      "    9    0.01802   0.01801704   0.99983768\n"
     ]
    }
   ],
   "source": [
    "# print first 10 values\n",
    "print(\" index        x        sin(x)        cos(x)\")\n",
    "print(\"-------------------------------------------\")\n",
    "for i in range(10):\n",
    "    print(f\"{i:5d} {x[i]:10.5f} {sin_values[i]:12.8f} {cos_values[i]:12.8f}\")"
   ]
  },
  {
   "cell_type": "code",
   "execution_count": null,
   "id": "7503239c-bdc9-41eb-b65a-3db28968f137",
   "metadata": {},
   "outputs": [],
   "source": []
  }
 ],
 "metadata": {
  "kernelspec": {
   "display_name": "Python 3 (ipykernel)",
   "language": "python",
   "name": "python3"
  },
  "language_info": {
   "codemirror_mode": {
    "name": "ipython",
    "version": 3
   },
   "file_extension": ".py",
   "mimetype": "text/x-python",
   "name": "python",
   "nbconvert_exporter": "python",
   "pygments_lexer": "ipython3",
   "version": "3.13.7"
  }
 },
 "nbformat": 4,
 "nbformat_minor": 5
}
